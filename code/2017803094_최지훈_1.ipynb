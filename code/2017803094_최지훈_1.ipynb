{
 "cells": [
  {
   "cell_type": "code",
   "execution_count": 5,
   "metadata": {},
   "outputs": [
    {
     "name": "stdout",
     "output_type": "stream",
     "text": [
      "Train Set Score1 : 1.000\n",
      "Test  Set Score1 : 0.937\n",
      "Train Set Score2 : 0.988\n",
      "Test  Set Score2 : 0.951\n"
     ]
    }
   ],
   "source": [
    "from sklearn.tree import DecisionTreeClassifier, export_graphviz\n",
    "from sklearn.datasets import load_breast_cancer\n",
    "from sklearn.model_selection import train_test_split\n",
    "#Dot to png\n",
    "import pydot\n",
    "\n",
    "#온라인 시각화\n",
    "#https://dreampuf.github.io/GraphvizOnline\n",
    "\n",
    "#샘플 데이터 로드(유방암 데이터 세트)\n",
    "cancer = load_breast_cancer()\n",
    "\n",
    "#훈련, 테스트 데이터 셔플\n",
    "X_train, X_test, y_train, y_test = train_test_split(\n",
    "cancer.data, cancer.target, stratify=cancer.target, random_state=42)\n",
    "\n",
    "#의사결정 트리 선언\n",
    "dTreeAll = DecisionTreeClassifier(random_state=0)\n",
    "\n",
    "#훈련 (모든 리프 노드 사용)\n",
    "dTreeAll.fit(X_train, y_train)\n",
    "\n",
    "#점수 출력\n",
    "print(\"Train Set Score1 : {:.3f}\".format(dTreeAll.score(X_train, y_train)))\n",
    "print(\"Test  Set Score1 : {:.3f}\".format(dTreeAll.score(X_test, y_test)))\n",
    "\n",
    "#의사결정 트리 선언(트리 깊이 제한)\n",
    "dTreeLimit = DecisionTreeClassifier(max_depth=4, random_state=0)\n",
    "\n",
    "#훈련 (가지치기 : 리프노드 깊이 제한)\n",
    "dTreeLimit.fit(X_train, y_train)\n",
    "\n",
    "#점수 출력\n",
    "print(\"Train Set Score2 : {:.3f}\".format(dTreeLimit.score(X_train, y_train)))\n",
    "print(\"Test  Set Score2 : {:.3f}\".format(dTreeLimit.score(X_test, y_test)))\n",
    "\n",
    "\n",
    "export_graphviz(dTreeLimit, out_file=\"decisionTree1.dot\", class_names=[\"malignant\",\"benign\"],\n",
    "                feature_names=cancer.feature_names, impurity=False, filled=True)\n",
    "\n",
    "#Encoding 중요\n",
    "(graph,) = pydot.graph_from_dot_file('decisionTree1.dot', encoding='utf8')\n",
    "\n",
    "#Dot 파일을 Png 이미지로 저장\n",
    "graph.write_png('decisionTree1.png')\n",
    "\n"
   ]
  },
  {
   "cell_type": "code",
   "execution_count": null,
   "metadata": {},
   "outputs": [],
   "source": []
  }
 ],
 "metadata": {
  "kernelspec": {
   "display_name": "Python 3",
   "language": "python",
   "name": "python3"
  },
  "language_info": {
   "codemirror_mode": {
    "name": "ipython",
    "version": 3
   },
   "file_extension": ".py",
   "mimetype": "text/x-python",
   "name": "python",
   "nbconvert_exporter": "python",
   "pygments_lexer": "ipython3",
   "version": "3.7.4"
  }
 },
 "nbformat": 4,
 "nbformat_minor": 2
}
